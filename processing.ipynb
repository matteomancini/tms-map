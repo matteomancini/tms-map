{
 "cells": [
  {
   "cell_type": "code",
   "execution_count": null,
   "id": "f30ba053-286f-4652-a2da-5673eeeac3e1",
   "metadata": {},
   "outputs": [],
   "source": [
    "import numpy as np\n",
    "import matplotlib.pyplot as plt\n",
    "from scipy.io import loadmat\n",
    "import comp\n",
    "import graph"
   ]
  },
  {
   "cell_type": "code",
   "execution_count": null,
   "id": "b58d8957-d7a7-4d1e-8848-92ee35d46a18",
   "metadata": {},
   "outputs": [],
   "source": [
    "dfile = 'tms-eeg_src.mat' # example .mat file containing the resutls from sources estimation\n",
    "seed = 1234\n",
    "np.random.seed(seed)"
   ]
  },
  {
   "cell_type": "code",
   "execution_count": null,
   "id": "3f05aee7-2f57-420e-ae24-eebb6a626314",
   "metadata": {},
   "outputs": [],
   "source": [
    "data = loadmat(dfile)\n",
    "\n",
    "# here it is assumed that the sources have been estimated using BrainStorm\n",
    "srcKernels = data['srcKernels']\n",
    "timeSeries = data['timeSeries']\n",
    "timepoints = data['Time'][0]\n",
    "vert = data['Vertices']\n",
    "target = data['target']"
   ]
  },
  {
   "cell_type": "code",
   "execution_count": null,
   "id": "9059b6a5-f170-4a28-b747-7089c0d47b9a",
   "metadata": {
    "scrolled": true
   },
   "outputs": [],
   "source": [
    "ss, j_avg, sorted_src, stim = comp.get_ss(srcKernels, timeSeries, timepoints)"
   ]
  },
  {
   "cell_type": "code",
   "execution_count": null,
   "id": "e3392257-2046-452c-91db-38c866afbdfc",
   "metadata": {},
   "outputs": [],
   "source": [
    "ss_sorted = ss[sorted_src, :]\n",
    "\n",
    "graph.plot_src(ss_sorted, stim)"
   ]
  },
  {
   "cell_type": "code",
   "execution_count": null,
   "id": "3a903846-5bbf-42fa-871f-b1d476433091",
   "metadata": {},
   "outputs": [],
   "source": [
    "skip_artifact = 5\n",
    "time_range = np.arange(stim+skip_artifact, len(timepoints))\n",
    "\n",
    "tts = comp.get_tss(ss[:, time_range])\n",
    "scd = comp.get_scd(ss[:, time_range], j_avg[:, time_range])\n",
    "dist_euc = comp.get_distances(vert, target, 'euclidean')\n",
    "scs_euc = comp.get_scs(ss[:, time_range], dist_euc)"
   ]
  },
  {
   "cell_type": "code",
   "execution_count": null,
   "id": "7f3c8114-5264-49f5-a48b-7076fefc5e36",
   "metadata": {},
   "outputs": [],
   "source": [
    "graph.plot_measures([tts, scd, scs_euc], timepoints[time_range])"
   ]
  },
  {
   "cell_type": "code",
   "execution_count": null,
   "id": "ca9e085f-2f6f-4f0f-8e13-95a7c1eb8644",
   "metadata": {
    "scrolled": true
   },
   "outputs": [],
   "source": [
    "pci = comp.get_pci(ss_sorted[:, time_range])"
   ]
  },
  {
   "cell_type": "code",
   "execution_count": null,
   "id": "748e4309-4f4b-4a7f-a1fb-673aeeaa4c4d",
   "metadata": {},
   "outputs": [],
   "source": [
    "graph.plot_pci(pci, timepoints[time_range])"
   ]
  }
 ],
 "metadata": {
  "kernelspec": {
   "display_name": "Python 3 (ipykernel)",
   "language": "python",
   "name": "python3"
  },
  "language_info": {
   "codemirror_mode": {
    "name": "ipython",
    "version": 3
   },
   "file_extension": ".py",
   "mimetype": "text/x-python",
   "name": "python",
   "nbconvert_exporter": "python",
   "pygments_lexer": "ipython3",
   "version": "3.12.1"
  }
 },
 "nbformat": 4,
 "nbformat_minor": 5
}
